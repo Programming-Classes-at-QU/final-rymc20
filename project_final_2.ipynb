{
  "cells": [
    {
      "cell_type": "markdown",
      "metadata": {
        "id": "EYuQzwFVMuF1"
      },
      "source": [
        "# Enter Name here: Ryan McCarthy"
      ]
    },
    {
      "cell_type": "markdown",
      "metadata": {
        "id": "QqNEge8zMuF4"
      },
      "source": [
        "Please complete your final project in the space below. Do not forget to explain and interpret the process. You can find the rubric here: https://nathanmichalewicz.org/courses/python/assignments/project-rubric.html"
      ]
    },
    {
      "cell_type": "markdown",
      "metadata": {
        "id": "LkKv7_kqMuF4"
      },
      "source": [
        "# PROJECT DESCRIPTION\n",
        "\n",
        "I have chosen to use the \"US Collegiate Sports Dataset\" for my project. I think this dataset is interesting because I'm a huge fan of the South Carolina Gamecocks football team and the SEC Division. I also play Division I lacrosse. I'd like to learn how much football programs contributed to the overall sports revenue at SEC schools in 2019, whether men's lacrosse programs created more revenue at Division I schools than Division II schools in the years 2015 to 2019, and how many women played lacrosse at Division I schools in 2019."
      ]
    },
    {
      "cell_type": "markdown",
      "source": [
        "# VARIABLE ANALYSIS\n",
        "\n",
        "In the first cell import your libraries and load your data.\n",
        "\n",
        "Complete one t-test and one ANOVA test.\n",
        "\n",
        "The t-test and the ANOVA test should not include the same variables and should be related to your research question. Explain why you chose the variables you chose and interpret your results."
      ],
      "metadata": {
        "id": "9m--cJhbNBfM"
      }
    },
    {
      "cell_type": "code",
      "source": [
        "# Import libraries and load the dataset\n",
        "\n",
        "import kagglehub\n",
        "import pandas as pd\n",
        "import numpy as np\n",
        "import seaborn as sns\n",
        "import matplotlib.pyplot as plt\n",
        "import scipy.stats as stats\n",
        "\n",
        "from statistics import mean, median, mode\n",
        "from kagglehub import KaggleDatasetAdapter\n",
        "\n",
        "# Set the debug flag for this segment of code\n",
        "debug = False\n",
        "\n",
        "# Download the latest version\n",
        "path = kagglehub.dataset_download(\"umerhaddii/us-collegiate-sports-dataset\")\n",
        "\n",
        "# Validate that the file was downloaded\n",
        "if debug: print(f'Path to dataset files: {path}')\n",
        "\n",
        "file_path = \"sports.csv\"\n",
        "\n",
        "# Import the data into a dataframe\n",
        "df_sports = kagglehub.load_dataset(\n",
        "  KaggleDatasetAdapter.PANDAS,\n",
        "  \"umerhaddii/us-collegiate-sports-dataset\",\n",
        "  file_path,\n",
        "  # https://github.com/Kaggle/kagglehub/blob/main/README.md#kaggledatasetadapterpandas\n",
        ")\n",
        "\n",
        "# Print a few rows of the dataset to get a feel for the data\n",
        "if debug: print(df_sports)"
      ],
      "metadata": {
        "colab": {
          "base_uri": "https://localhost:8080/"
        },
        "id": "kJtxbMzONHme",
        "outputId": "26929950-866b-45b7-b7df-85e27596d0a2"
      },
      "execution_count": 4,
      "outputs": [
        {
          "output_type": "stream",
          "name": "stderr",
          "text": [
            "<ipython-input-4-1ea9193aa442>:25: DeprecationWarning: load_dataset is deprecated and will be removed in future version.\n",
            "  df_sports = kagglehub.load_dataset(\n",
            "/usr/local/lib/python3.11/dist-packages/kagglehub/pandas_datasets.py:91: DtypeWarning: Columns (8) have mixed types. Specify dtype option on import or set low_memory=False.\n",
            "  result = read_function(\n"
          ]
        }
      ]
    },
    {
      "cell_type": "markdown",
      "source": [
        "# T-TEST\n",
        "\n",
        "In order to use a t-test to help answer the question of \"how many women played lacrosse at Division I schools in 2019\", I chose to answer the question by comparing the number of women who played lacrosse at Division I schools in 2019 with the number of women who played lacrosse at Division II schools in 2019, to see if there was a statistically significant difference between the two groups.  Therefore I chose these two groups as my variables.\n",
        "\n",
        "So the T-test Question is this: \"Is there a statistically significant difference between women's participation in lacrosse at Division I and Division II schools in 2019?\n",
        "\n",
        "The t-test will determine if there's a statistically significant difference between the means of the two groups, but it does not determine which group has more participants, so I calculated the mean and mode of each group to get an idea which group had more participants.\n",
        "\n",
        "Procedure:\n",
        "- Get the data for the number of women who participated in Division I lacrosse in 2019.\n",
        "\n",
        "- Get the data for the number of women who participated in Division II lacrosse in 2019.\n",
        "\n",
        "- Use a t-test to compare the two sets of data.\n",
        "\n",
        "- Analyze the t-statistic and p-value.\n",
        "\n",
        "- Calculate the mean and mode for the number of women who participated in Division I lacrosse in 2019.\n",
        "\n",
        "- Calculate the mean and mode for the number of women who participated in Division II lacrosse in 2019.\n",
        "\n",
        "- Analyze the results."
      ],
      "metadata": {
        "id": "eYnNAd91U3Eh"
      }
    },
    {
      "cell_type": "code",
      "source": [
        "# Set the debug flag for this segment of code\n",
        "\n",
        "debug = False\n",
        "\n",
        "# Initialize parameters\n",
        "\n",
        "div1_categories = ['NCAA Division I-FBS', 'NCAA Division I-FCS']\n",
        "div2_categories = ['NCAA Division II without football', 'NCAA Division II with football']\n",
        "sport_lacrosse = 'Lacrosse'\n",
        "school_year = 2019\n",
        "\n",
        "# Function to query the dataset and get the number of women who particiated in\n",
        "# Lacrosse for the given NCAA Categories in 2019\n",
        "\n",
        "def get_lacrosse_data(param_ncaa_categories):\n",
        "\n",
        "    # Args:\n",
        "    # param_ncaa_categories: A list of target NCAA categories.\n",
        "\n",
        "    # Returns:\n",
        "    # A list containing the number of women participating in lacrosse for each\n",
        "    # school in the given NCAA Category in 2019.\n",
        "\n",
        "    if debug: print(f'\\nget_lacrosse_data: ncaa_categories = {param_ncaa_categories}')\n",
        "\n",
        "    # Query the dataset\n",
        "    condition = (df_sports['year'] == school_year) & (df_sports['sports'] == sport_lacrosse) & (df_sports['classification_name'].isin(param_ncaa_categories))\n",
        "    df_results = df_sports.loc[condition, ['year', 'sports', 'institution_name', 'partic_women']].copy()\n",
        "\n",
        "    if debug: print(f'\\ndf_results\\n{df_results}')\n",
        "\n",
        "    # Remove rows where 'partic_women' has blanks and NaN values\n",
        "    df_results = df_results.dropna(subset=['partic_women'])\n",
        "\n",
        "    # Get the number of women participants\n",
        "    partic_women = df_results['partic_women']\n",
        "\n",
        "    return partic_women\n",
        "\n",
        "# Function that calculates and outputs the mean, median, and mode of a given list\n",
        "# of numbers. The mean is the average of all values, the median is the middle value\n",
        "# when the data is ordered, and the mode is the value that appears most frequently.\n",
        "\n",
        "def print_stats(param_title, param_numbers):\n",
        "\n",
        "    # Args:\n",
        "    # param_title: The name of the list.\n",
        "    # param_numbers: A list of numbers.\n",
        "\n",
        "    if debug: print(f\"\\nprint_stats for {param_title}\\nmean: {mean(param_numbers)}\\nmedian: {median(param_numbers)}\\nmode: {mode(param_numbers)}\")\n",
        "\n",
        "    format_string = \"{:>18} {:>12.2f} {:>12.2f} {:>12.2f}\"\n",
        "    print(format_string.format(param_title, mean(param_numbers), median(param_numbers), mode(param_numbers)))\n",
        "\n",
        "# Get the data for the number of women who particiated in Division I Lacrosse in 2019\n",
        "div1_women = get_lacrosse_data(div1_categories)\n",
        "\n",
        "if debug: print(f'\\ndiv1_women\\n{div1_women}')\n",
        "\n",
        "# Get the data for the number of women who particiated in Division II Lacrosse in 2019\n",
        "div2_women = get_lacrosse_data(div2_categories)\n",
        "\n",
        "if debug: print(f'\\ndiv2_women\\n{div2_women}')\n",
        "\n",
        "# Perform the t-test\n",
        "t_stat, p_value = stats.ttest_ind(div1_women, div2_women)\n",
        "\n",
        "# Print the results of the t-test\n",
        "print(f\"\\nT-statistic: {t_stat}\")\n",
        "print(f\"P-value: {p_value}\")\n",
        "\n",
        "# Check for statistical significance (e.g., at a 5% level)\n",
        "if p_value < 0.05:\n",
        "   print(\"Result: There is a statistically significant difference in the number of women participating in NCAA Division I and Division II lacrosse.\")\n",
        "else:\n",
        "   print(\"Result: There is NOT a statistically significant difference in the number of women participating in NCAA Division I and Division II lacrosse.\")\n",
        "\n",
        "# Output the mean, median and mode in table format\n",
        "print(f\"\\n{'Number of Participants':>38}\")\n",
        "print(\"=\" * 58)\n",
        "print(f\"{'category':>14}{'mean':>16} {'median':>14} {'mode':>10}\")\n",
        "print(\"=\" * 58)\n",
        "\n",
        "# Output the mean, median and mode for div1_women\n",
        "print_stats('Division I Women', div1_women)\n",
        "\n",
        "# Output the mean, median and mode for div2_women\n",
        "print_stats('Division II Women', div2_women)\n",
        "\n",
        "print(\"-\" * 58)"
      ],
      "metadata": {
        "colab": {
          "base_uri": "https://localhost:8080/"
        },
        "id": "CVyZxSOp3E0g",
        "outputId": "cbd9f758-ca04-4f9b-8210-e18edac1475f"
      },
      "execution_count": 38,
      "outputs": [
        {
          "output_type": "stream",
          "name": "stdout",
          "text": [
            "\n",
            "T-statistic: 11.816277319702285\n",
            "P-value: 1.5389265868448235e-24\n",
            "Result: There is a statistically significant difference in the number of women participating in NCAA Division I and Division II lacrosse.\n",
            "\n",
            "                Number of Participants\n",
            "==========================================================\n",
            "      category            mean         median       mode\n",
            "==========================================================\n",
            "  Division I Women        33.71        33.00        30.00\n",
            " Division II Women        24.44        25.00        26.00\n",
            "----------------------------------------------------------\n"
          ]
        }
      ]
    },
    {
      "cell_type": "markdown",
      "source": [
        "T-TEST CONCLUSIONS\n",
        "\n",
        "According to the course material, a high t-statistic value indicates a strong difference between the means of the two groups being compared. Essentially, it suggests that the observed difference is unlikely to have occurred by chance alone.\n",
        "\n",
        " Given the high t-statistic (~ 11.8), I conclude that in 2019, there is a strong difference between the number of women that played NCAA Division I lacrosse and the number of women that played NCAA Division II lacrosse.  The differences in mean values (33.7, 23.4) and mode values (30, 26) for these 2 groups supports this conclusion, and indicates that more women played Division I lacrosse than Division II lacrosse in 2019."
      ],
      "metadata": {
        "id": "xFxWxchjjyWl"
      }
    },
    {
      "cell_type": "markdown",
      "source": [
        "# ANOVA TEST\n",
        "\n",
        "The following analysis helps me answer the question of \"How much football programs contributed to the overall sports revenue at SEC schools in 2019\" by looking at the amount of money a selected set of SEC Division I schools spent (invested) on football versus other big sports (basketball, soccer, lacrosse and volleyball).  Since I looked at financial revenue numbers in a previous assignment, I decided to look at financial expense numbers this time.  So my variables were financial expense for football, basketball, soccer, lacrosse and volleyball.\n",
        "\n",
        "ANOVA Question:\n",
        "Is there statistically significant difference in the total financial expense for football, basketball, soccer, lacrosse and volleyball programs at SEC Division I schools in 2019?\n",
        "\n",
        "Procedure:\n",
        "\n",
        "- Gather expense data for football, basketball, soccer, lacrosse and volleyball at selected SEC Division I schools in 2019.\n",
        "\n",
        "- Run a one-way ANOVA to compare the expenses across the 5 sports.\n",
        "\n",
        "- Analyze the ANOVA results to see if the f-statistic and p-value are significant.\n",
        "\n",
        "- Because the ANOVA does not tell exactly which sports have the statistically significant difference, I calculated the mean and mode for each sport to help answer that question."
      ],
      "metadata": {
        "id": "k6WO8udpVroN"
      }
    },
    {
      "cell_type": "code",
      "source": [
        "# Set the debug flag for this segment of code\n",
        "\n",
        "debug = False\n",
        "\n",
        "# Create the selected list of SEC Division I schools\n",
        "school_names = ['The University of Alabama','University of Florida', 'University of Georgia',\n",
        "                'University of South Carolina-Columbia','The University of Texas at Austin']\n",
        "\n",
        "# Create the list of sports\n",
        "sports_names = ['Football', 'Basketball', 'Soccer', 'Lacrosse', 'Volleyball']\n",
        "\n",
        "# Specify the year\n",
        "school_year = 2019\n",
        "\n",
        "# Query the data set\n",
        "condition = (df_sports['institution_name'].isin(school_names)) & (df_sports['year'] == school_year) & (df_sports['sports'].isin(sports_names))\n",
        "df_results = df_sports.loc[condition, ['year', 'institution_name', 'sports', 'total_exp_menwomen']].copy()\n",
        "\n",
        "# Remove rows where 'total_exp_menwomen' has blanks and NaN values\n",
        "df_results = df_results.dropna(subset=['total_exp_menwomen'])\n",
        "\n",
        "if debug: print(df_results)\n",
        "\n",
        "# Prepare input to the ANOVA calculation\n",
        "exp_football = df_results.loc[df_results['sports'] == sports_names[0], 'total_exp_menwomen']\n",
        "exp_basketball = df_results.loc[df_results['sports'] == sports_names[1], 'total_exp_menwomen']\n",
        "exp_soccer = df_results.loc[df_results['sports'] == sports_names[2], 'total_exp_menwomen']\n",
        "exp_lacrosse = df_results.loc[df_results['sports'] == sports_names[3], 'total_exp_menwomen']\n",
        "exp_volleyball = df_results.loc[df_results['sports'] == sports_names[4], 'total_exp_menwomen']\n",
        "\n",
        "if debug:\n",
        "  print(f'\\nTEST-1 exp_football: Length = {len(exp_football)}, Values = {exp_football.values}')\n",
        "  print(f'\\nTEST-2 exp_baseketball: Length = {len(exp_basketball)}, Values = {exp_basketball.values}')\n",
        "  print(f'\\nTEST-3 exp_soccer: Length = {len(exp_soccer)}, Values = {exp_soccer.values}')\n",
        "  print(f'\\nTEST-4 exp_lacrosse: Length = {len(exp_lacrosse)}, Values = {exp_lacrosse.values}')\n",
        "  print(f'\\nTEST-5 exp_volleyball: Length = {len(exp_volleyball)}, Values = {exp_volleyball.values}')\n",
        "\n",
        "# Calculate the ANOVA values for expenditures across the set of sports\n",
        "df_anova = stats.f_oneway(exp_football, exp_basketball, exp_soccer, exp_lacrosse, exp_volleyball)\n",
        "\n",
        "# Output the results\n",
        "text_str = f'\\nExpenditures for Football, Basketball, Soccer, Lacrosse and Volleyball\\nF-statistic: {df_anova.statistic}\\np-value: {df_anova.pvalue}'\n",
        "print(text_str)\n",
        "\n",
        "# Output the mean, median and mode in table format\n",
        "print(f\"\\n{'Financial Expenditure':>38}\")\n",
        "print(\"=\" * 58)\n",
        "print(f\"{'category':>15}{'mean':>12} {'median':>13} {'mode':>12}\")\n",
        "print(\"=\" * 58)\n",
        "\n",
        "# Output the mean, median and mode for each sport\n",
        "print_stats('Football', exp_football)\n",
        "print_stats('Basketball', exp_basketball)\n",
        "print_stats('Soccer', exp_soccer)\n",
        "print_stats('Lacrosse', exp_lacrosse)\n",
        "print_stats('Volleyball', exp_volleyball)\n",
        "\n",
        "print(\"-\" * 58)\n"
      ],
      "metadata": {
        "colab": {
          "base_uri": "https://localhost:8080/"
        },
        "id": "5-6ih4KdNccA",
        "outputId": "635d476b-6f50-4592-f94c-18de78b10af5"
      },
      "execution_count": 48,
      "outputs": [
        {
          "output_type": "stream",
          "name": "stdout",
          "text": [
            "\n",
            "Expenditures for Football, Basketball, Soccer, Lacrosse and Volleyball\n",
            "F-statistic: 58.15951156367277\n",
            "p-value: 2.4950602357714594e-09\n",
            "\n",
            "                 Financial Expenditure\n",
            "==========================================================\n",
            "       category        mean        median         mode\n",
            "==========================================================\n",
            "          Football  43659005.00  39503076.00  58508853.00\n",
            "        Basketball  14438291.60  13543284.00  13235476.00\n",
            "            Soccer   2130293.80   1883398.00   1883398.00\n",
            "          Lacrosse   1648659.00   1648659.00   1648659.00\n",
            "        Volleyball   2300973.80   1909222.00   1909222.00\n",
            "----------------------------------------------------------\n"
          ]
        }
      ]
    },
    {
      "cell_type": "markdown",
      "source": [
        "ANOVA TEST CONCLUSIONS\n",
        "\n",
        "According to the course material, the high F-statistic (~ 58.16) indicates that there is a statistically significant difference in the expenses for at least two of the sports.  The extremely small p-value means that the evidence against the null hypothesis (that all group means are equal) is extremely strong.\n",
        "\n",
        "The ANOVA results combined with a comparison of the mean and mode values for  the selected sports at the selected Division I SEC schools indicates that football probably had the highest sports expenditure in 2019, which is also an indicator that football might have made the highest contribution to sports revenue at Division I SEC schools in 2019.  More analyis is required to determine a more accurate answer.\n",
        "\n",
        "- A key part of this analyis was performed in the previous assignment where I used Pearson Correlation Coefficient analysis to correlate the amount of revenue generated by football with the total amount of revenue generated by all sports at each selected SEC school in 2019.\n",
        "\n",
        "- The results (0.97 coefficient and 0.00 p-value) indicated a strong correlation between the amount of revenue generated by football and the amount of revenue generated by the overall sports programs at those schools.\n",
        "\n",
        "- Based on all the tests I performed on the football data, I have a strong opinion that football had the highest revenue, expenses, and contribution to overall sports contribution than basketball, soccer, lacrosse and volleyball."
      ],
      "metadata": {
        "id": "5zbR2F-XhXZr"
      }
    }
  ],
  "metadata": {
    "language_info": {
      "name": "python"
    },
    "colab": {
      "provenance": []
    },
    "kernelspec": {
      "name": "python3",
      "display_name": "Python 3"
    }
  },
  "nbformat": 4,
  "nbformat_minor": 0
}