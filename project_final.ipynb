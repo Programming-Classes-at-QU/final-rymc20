{
  "cells": [
    {
      "cell_type": "markdown",
      "metadata": {
        "id": "EYuQzwFVMuF1"
      },
      "source": [
        "# Enter Name here: Ryan McCarthy"
      ]
    },
    {
      "cell_type": "markdown",
      "metadata": {
        "id": "QqNEge8zMuF4"
      },
      "source": [
        "Please complete your final project in the space below. Do not forget to explain and interpret the process. You can find the rubric here: https://nathanmichalewicz.org/courses/python/assignments/project-rubric.html"
      ]
    },
    {
      "cell_type": "markdown",
      "metadata": {
        "id": "LkKv7_kqMuF4"
      },
      "source": [
        "# PROJECT DESCRIPTION\n",
        "\n",
        "I have chosen to use the \"US Collegiate Sports Dataset\" for my project. I think this dataset is interesting because I'm a huge fan of the South Carolina Gamecocks football team and the SEC Division. I also play Division I lacrosse. I'd like to learn how much football programs contributed to the overall sports revenue at SEC schools in 2019, whether men's lacrosse programs created more revenue at Division I schools than Division II schools in the years 2015 to 2019, and how many women played lacrosse at Division I schools in 2019."
      ]
    },
    {
      "cell_type": "markdown",
      "source": [
        "# VARIABLE ANALYSIS\n",
        "\n",
        "In the first cell import your libraries and load your data.\n",
        "\n",
        "Complete one t-test and one ANOVA test.\n",
        "\n",
        "The t-test and the ANOVA test should not include the same variables and should be related to your research question. Explain why you chose the variables you chose and interpret your results."
      ],
      "metadata": {
        "id": "9m--cJhbNBfM"
      }
    },
    {
      "cell_type": "code",
      "source": [
        "# Import libraries and load the dataset\n",
        "\n",
        "import kagglehub\n",
        "import pandas as pd\n",
        "import numpy as np\n",
        "import seaborn as sns\n",
        "import matplotlib.pyplot as plt\n",
        "import scipy.stats as stats\n",
        "\n",
        "from statistics import mean, median, mode\n",
        "from kagglehub import KaggleDatasetAdapter\n",
        "\n",
        "# Set the debug flag for this segment of code\n",
        "debug = False\n",
        "\n",
        "# Download the latest version\n",
        "path = kagglehub.dataset_download(\"umerhaddii/us-collegiate-sports-dataset\")\n",
        "\n",
        "# Validate that the file was downloaded\n",
        "if debug: print(f'Path to dataset files: {path}')\n",
        "\n",
        "file_path = \"sports.csv\"\n",
        "\n",
        "# Import the data into a dataframe\n",
        "df_sports = kagglehub.load_dataset(\n",
        "  KaggleDatasetAdapter.PANDAS,\n",
        "  \"umerhaddii/us-collegiate-sports-dataset\",\n",
        "  file_path,\n",
        "  # https://github.com/Kaggle/kagglehub/blob/main/README.md#kaggledatasetadapterpandas\n",
        ")\n",
        "\n",
        "# Print a few rows of the dataset to get a feel for the data\n",
        "if debug: print(df_sports)"
      ],
      "metadata": {
        "colab": {
          "base_uri": "https://localhost:8080/"
        },
        "id": "kJtxbMzONHme",
        "outputId": "723d41de-47ba-432d-ce33-a73750731c2b"
      },
      "execution_count": 47,
      "outputs": [
        {
          "output_type": "stream",
          "name": "stderr",
          "text": [
            "<ipython-input-47-bd2552eb6fe0>:25: DeprecationWarning: load_dataset is deprecated and will be removed in future version.\n",
            "  df_sports = kagglehub.load_dataset(\n",
            "/usr/local/lib/python3.11/dist-packages/kagglehub/pandas_datasets.py:91: DtypeWarning: Columns (8) have mixed types. Specify dtype option on import or set low_memory=False.\n",
            "  result = read_function(\n"
          ]
        }
      ]
    },
    {
      "cell_type": "markdown",
      "source": [
        "# T-TEST\n",
        "\n",
        "The following t-test analysis helps answer the question of \"how many women played lacrosse at Division I schools in 2019\", by comparing that data to women who played lacrosse at Division II schools in 2019.\n",
        "\n",
        "T-test Question: \"Is there a statistically significant difference between women's participation in lacrosse at Division I and Division II schools in 2019?\n",
        "\n",
        "The t-test will determine if there's a statistically significant difference between the means of the two groups.\n",
        "\n",
        "Procedure:\n",
        "- Get the data for the number of women who participated in Division I lacrosse in 2019.\n",
        "\n",
        "- Get the data for the number of women who participated in Division II lacrosse in 2019.\n",
        "\n",
        "- Use a t-test to compare the two sets of data.\n",
        "\n",
        "- Analyze the t-statistic and p-value."
      ],
      "metadata": {
        "id": "eYnNAd91U3Eh"
      }
    },
    {
      "cell_type": "code",
      "source": [
        "# Set the debug flag for this segment of code\n",
        "\n",
        "debug = False\n",
        "\n",
        "# Initialize parameters\n",
        "\n",
        "div1_categories = ['NCAA Division I-FBS', 'NCAA Division I-FCS']\n",
        "div2_categories = ['NCAA Division II without football', 'NCAA Division II with football']\n",
        "sport_lacrosse = 'Lacrosse'\n",
        "school_year = 2019\n",
        "\n",
        "# Function to query the dataset and get the number of women who particiated in\n",
        "# Lacrosse for the given NCAA Categories in 2019\n",
        "\n",
        "def get_lacrosse_data(param_ncaa_categories):\n",
        "\n",
        "    # Args:\n",
        "    # param_ncaa_categories: A list of target NCAA categories.\n",
        "\n",
        "    # Returns:\n",
        "    # A list containing the number of women participating in lacrosse for each\n",
        "    # school in the given NCAA Category in 2019.\n",
        "\n",
        "    if debug: print(f'\\nget_lacrosse_data: ncaa_categories = {param_ncaa_categories}')\n",
        "\n",
        "    # Query the dataset\n",
        "    condition = (df_sports['year'] == school_year) & (df_sports['sports'] == sport_lacrosse) & (df_sports['classification_name'].isin(param_ncaa_categories))\n",
        "    df_results = df_sports.loc[condition, ['year', 'sports', 'institution_name', 'partic_women']].copy()\n",
        "\n",
        "    if debug: print(f'\\ndf_results\\n{df_results}')\n",
        "\n",
        "    # Remove rows where 'partic_women' has blanks and NaN values\n",
        "    df_results = df_results.dropna(subset=['partic_women'])\n",
        "\n",
        "    # Get the number of women participants\n",
        "    partic_women = df_results['partic_women']\n",
        "\n",
        "    return partic_women\n",
        "\n",
        "# Function that calculates and outputs the mean, median, and mode of a given list\n",
        "# of numbers. The mean is the average of all values, the median is the middle value\n",
        "# when the data is ordered, and the mode is the value that appears most frequently.\n",
        "\n",
        "def print_stats(param_title, param_numbers):\n",
        "\n",
        "    # Args:\n",
        "    # param_title: The name of the list.\n",
        "    # param_numbers: A list of numbers.\n",
        "\n",
        "    print(f\"\\nprint_stats for {param_title}\\nmean: {mean(param_numbers)}\\nmedian: {median(param_numbers)}\\nmode: {mode(param_numbers)}\")\n",
        "\n",
        "\n",
        "# Get the data for the number of women who particiated in Division I Lacrosse in 2019\n",
        "div1_women = get_lacrosse_data(div1_categories)\n",
        "\n",
        "if debug: print(f'\\ndiv1_women\\n{div1_women}')\n",
        "\n",
        "# Output the mean, median and mode for div1_women\n",
        "print_stats('Division I Women', div1_women)\n",
        "\n",
        "# Get the data for the number of women who particiated in Division II Lacrosse in 2019\n",
        "div2_women = get_lacrosse_data(div2_categories)\n",
        "\n",
        "if debug: print(f'\\ndiv2_women\\n{div2_women}')\n",
        "\n",
        "# Output the mean, median and mode for div2_women\n",
        "print_stats('Division II Women', div2_women)\n",
        "\n",
        "# Perform the t-test\n",
        "t_stat, p_value = stats.ttest_ind(div1_women, div2_women)\n",
        "\n",
        "# Print the results of the t-test\n",
        "print(f\"\\nT-statistic: {t_stat}\")\n",
        "print(f\"P-value: {p_value}\")\n",
        "\n",
        "# Check for statistical significance (e.g., at a 5% level)\n",
        "if p_value < 0.05:\n",
        "   print(\"Result: There is a statistically significant difference in the number of women participating in NCAA Division I and Division II lacrosse.\")\n",
        "else:\n",
        "   print(\"Result: There is NOT a statistically significant difference in the number of women participating in NCAA Division I and Division II lacrosse.\")\n"
      ],
      "metadata": {
        "colab": {
          "base_uri": "https://localhost:8080/"
        },
        "id": "CVyZxSOp3E0g",
        "outputId": "af2d60ac-6576-48dc-f45c-6e11045e4305"
      },
      "execution_count": 48,
      "outputs": [
        {
          "output_type": "stream",
          "name": "stdout",
          "text": [
            "\n",
            "print_stats for Division I Women\n",
            "mean: 33.705882352941174\n",
            "median: 33.0\n",
            "mode: 30.0\n",
            "\n",
            "print_stats for Division II Women\n",
            "mean: 24.435185185185187\n",
            "median: 25.0\n",
            "mode: 26.0\n",
            "\n",
            "T-statistic: 11.816277319702285\n",
            "P-value: 1.5389265868448235e-24\n",
            "Result: There is a statistically significant difference in the number of women participating in NCAA Division I and Division II lacrosse.\n"
          ]
        }
      ]
    },
    {
      "cell_type": "markdown",
      "source": [
        "T-TEST CONCLUSIONS\n",
        "\n",
        "According to the course material, a high t-statistic value indicates a strong difference between the means of the two groups being compared. Essentially, it suggests that the observed difference is unlikely to have occurred by chance alone.\n",
        "\n",
        " Given the high t-statistic (~ 11.8), I conclude that in 2019, there is a strong difference between the number of women that played NCAA Division I lacrosse and the number of women that played NCAA Division II lacrosse.  The differences in mean values (33.7, 23.4) and mode values (30, 26) for these 2 groups supports this conclusion.\n",
        "\n",
        "This result helps answer the question of \"how many women played lacrosse at Division I schools in 2019\" (relative to the number of women that played lacrosse at Division II schools that same year)."
      ],
      "metadata": {
        "id": "xFxWxchjjyWl"
      }
    },
    {
      "cell_type": "markdown",
      "source": [
        "# ANOVA TEST\n",
        "\n",
        "The following analysis helps me answer the question of \"How much football programs contributed to the overall sports revenue at SEC schools in 2019\" by looking at the amount of money a selected set of SEC Division I schools spent (invested) on football versus other big sports (basketball, soccer, lacrosse and volleyball).\n",
        "\n",
        "ANOVA Question:\n",
        "Are there statistically significant differences in the total financial investment (dependent variable) among different collegiate sports (independent variable)?\n",
        "\n",
        "Procedure:\n",
        "\n",
        "- Gather expense data for football, basketball, soccer, lacrosse and volleyball at selected NCAA Division I schools.\n",
        "\n",
        "- Run a one-way ANOVA with \"sport\" as the independent variable and \"expenditure\" as the dependent variable.\n",
        "\n",
        "- Analyze the ANOVA results to see if the f-statistic and p-value are significant."
      ],
      "metadata": {
        "id": "k6WO8udpVroN"
      }
    },
    {
      "cell_type": "code",
      "source": [
        "# Set the debug flag for this segment of code\n",
        "\n",
        "debug = False\n",
        "\n",
        "# Create the selected list of SEC Division I schools\n",
        "school_names = ['The University of Alabama','University of Florida', 'University of Georgia',\n",
        "                'University of South Carolina-Columbia','The University of Texas at Austin']\n",
        "# Create the list of sports\n",
        "sports_names = ['Football', 'Basketball', 'Soccer', 'Lacrosse', 'Volleyball']\n",
        "\n",
        "# Specify the year\n",
        "school_year = 2019\n",
        "\n",
        "# Query the data set\n",
        "condition = (df_sports['institution_name'].isin(school_names)) & (df_sports['year'] == school_year) & (df_sports['sports'].isin(sports_names))\n",
        "df_results = df_sports.loc[condition, ['year', 'institution_name', 'sports', 'total_exp_menwomen']].copy()\n",
        "\n",
        "# Remove rows where 'total_exp_menwomen' has blanks and NaN values\n",
        "df_results = df_results.dropna(subset=['total_exp_menwomen'])\n",
        "\n",
        "if debug: print(df_results)\n",
        "\n",
        "# Prepare input to the ANOVA calculation\n",
        "exp_football = df_results.loc[df_results['sports'] == sports_names[0], 'total_exp_menwomen']\n",
        "exp_basketball = df_results.loc[df_results['sports'] == sports_names[1], 'total_exp_menwomen']\n",
        "exp_soccer = df_results.loc[df_results['sports'] == sports_names[2], 'total_exp_menwomen']\n",
        "exp_lacrosse = df_results.loc[df_results['sports'] == sports_names[3], 'total_exp_menwomen']\n",
        "exp_volleyball = df_results.loc[df_results['sports'] == sports_names[4], 'total_exp_menwomen']\n",
        "\n",
        "if debug:\n",
        "  print(f'\\nTEST-1 exp_football: Length = {len(exp_football)}, Values = {exp_football.values}')\n",
        "  print(f'\\nTEST-2 exp_baseketball: Length = {len(exp_basketball)}, Values = {exp_basketball.values}')\n",
        "  print(f'\\nTEST-3 exp_soccer: Length = {len(exp_soccer)}, Values = {exp_soccer.values}')\n",
        "  print(f'\\nTEST-4 exp_lacrosse: Length = {len(exp_lacrosse)}, Values = {exp_lacrosse.values}')\n",
        "  print(f'\\nTEST-5 exp_volleyball: Length = {len(exp_volleyball)}, Values = {exp_volleyball.values}')\n",
        "\n",
        "# Output the mean, median and mode for each sport\n",
        "print_stats('Football', exp_football)\n",
        "print_stats('Basketball', exp_basketball)\n",
        "print_stats('Soccer', exp_soccer)\n",
        "print_stats('Lacrosse', exp_lacrosse)\n",
        "print_stats('Volleyball', exp_volleyball)\n",
        "\n",
        "# Calculate the ANOVA values for expenditures across the set of sports\n",
        "df_anova = stats.f_oneway(exp_football, exp_basketball, exp_soccer, exp_lacrosse, exp_volleyball)\n",
        "\n",
        "# Outout the results\n",
        "text_str = f'\\nExpenditures for Football, Basketball, Soccer, Lacrosse and Volleyball\\nF-statistic: {df_anova.statistic}\\np-value: {df_anova.pvalue}'\n",
        "print(text_str)\n"
      ],
      "metadata": {
        "colab": {
          "base_uri": "https://localhost:8080/"
        },
        "id": "5-6ih4KdNccA",
        "outputId": "3ab1c664-9b41-40a4-c064-b0ff9f784879"
      },
      "execution_count": 50,
      "outputs": [
        {
          "output_type": "stream",
          "name": "stdout",
          "text": [
            "\n",
            "print_stats for Football\n",
            "mean: 43659005.0\n",
            "median: 39503076.0\n",
            "mode: 58508853.0\n",
            "\n",
            "print_stats for Basketball\n",
            "mean: 14438291.6\n",
            "median: 13543284.0\n",
            "mode: 13235476.0\n",
            "\n",
            "print_stats for Soccer\n",
            "mean: 2130293.8\n",
            "median: 1883398.0\n",
            "mode: 1883398.0\n",
            "\n",
            "print_stats for Lacrosse\n",
            "mean: 1648659.0\n",
            "median: 1648659.0\n",
            "mode: 1648659.0\n",
            "\n",
            "print_stats for Volleyball\n",
            "mean: 2300973.8\n",
            "median: 1909222.0\n",
            "mode: 1909222.0\n",
            "\n",
            "Expenditures for Football, Basketball, Soccer, Lacrosse and Volleyball\n",
            "F-statistic: 58.15951156367277\n",
            "p-value: 2.4950602357714594e-09\n"
          ]
        }
      ]
    },
    {
      "cell_type": "markdown",
      "source": [
        "ANOVA TEST CONCLUSIONS\n",
        "\n",
        "According to the course material, the high F-statistic (~ 58.16) indicates that there is a statistically significant difference between at least two of the sports.  The extremely small p-value means that the evidence against the null hypothesis (that all group means are equal) is extremely strong.\n",
        "\n",
        "The ANOVA results indicate that there is a statistically significant difference in the amount of money spent on football, basketball, soccer, lacrosse and volleyball at the selected SEC Division I schools in 2019.\n",
        "\n",
        "The ANOVA results combined with a comparison of the mean and mode values for  the selected sports at the selected Division I SEC schools indicates that football might have had the highest sports expenditure in 2019, which is also an indicator that football might have made the highest contribution to sports revenue at Division I SEC schools in 2019.  More analyis is required to determine a more accurate answer.\n",
        "\n",
        "- A key part of this analyis was performed in the previous assignment where I used Pearson Correlation Coefficient analysis to correlate the amount of revenue generated by football with the total amount of revenue generated by all sports at each selected SEC school in 2019.\n",
        "\n",
        "- The results (0.97 coefficient and 0.00 p-value) indicated a strong correlation between the amount of revenue generated by football and the amount of revenue generated by the overall sports programs at those schools."
      ],
      "metadata": {
        "id": "5zbR2F-XhXZr"
      }
    }
  ],
  "metadata": {
    "language_info": {
      "name": "python"
    },
    "colab": {
      "provenance": []
    },
    "kernelspec": {
      "name": "python3",
      "display_name": "Python 3"
    }
  },
  "nbformat": 4,
  "nbformat_minor": 0
}